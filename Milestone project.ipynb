{
 "cells": [
  {
   "cell_type": "markdown",
   "id": "3e33b3b4",
   "metadata": {},
   "source": [
    "## Milestone Project / The Data Incubator Bootcamp\n",
    "\n",
    "### Analysis of the Value of Energy Cost Savings Program Savings for Businesses in New York City\n"
   ]
  },
  {
   "cell_type": "markdown",
   "id": "0533e293",
   "metadata": {},
   "source": [
    "Import the python packages:"
   ]
  },
  {
   "cell_type": "code",
   "execution_count": 1,
   "id": "a9e073b6",
   "metadata": {},
   "outputs": [],
   "source": [
    "import pandas as pd\n",
    "import numpy as np\n",
    "import datetime as datetime\n",
    "import matplotlib as mp\n",
    "import matplotlib.pyplot as plt\n",
    "import matplotlib.ticker as ticker\n",
    "from datetime import date"
   ]
  },
  {
   "cell_type": "markdown",
   "id": "303826a3",
   "metadata": {},
   "source": [
    "Read data from a CSV file to create a DataFrame:"
   ]
  },
  {
   "cell_type": "code",
   "execution_count": 2,
   "id": "c664723c",
   "metadata": {},
   "outputs": [],
   "source": [
    "df = pd.read_csv(\"Value_of_Energy_Cost_Savings_Program_Savings_for_Businesses_-_FY2020.csv\")\n",
    "                 "
   ]
  },
  {
   "cell_type": "markdown",
   "id": "204abbaf",
   "metadata": {},
   "source": [
    "General information about the DataFrame:"
   ]
  },
  {
   "cell_type": "code",
   "execution_count": 3,
   "id": "1b91052a",
   "metadata": {},
   "outputs": [
    {
     "name": "stdout",
     "output_type": "stream",
     "text": [
      "<class 'pandas.core.frame.DataFrame'>\n",
      "RangeIndex: 450 entries, 0 to 449\n",
      "Data columns (total 26 columns):\n",
      " #   Column                                     Non-Null Count  Dtype  \n",
      "---  ------                                     --------------  -----  \n",
      " 0   Company Name                               450 non-null    object \n",
      " 1   company contact                            450 non-null    object \n",
      " 2   company email                              433 non-null    object \n",
      " 3   company phone                              450 non-null    object \n",
      " 4   Address                                    450 non-null    object \n",
      " 5   City                                       450 non-null    object \n",
      " 6   State                                      450 non-null    object \n",
      " 7   Postcode                                   450 non-null    int64  \n",
      " 8   Industry                                   450 non-null    object \n",
      " 9   Industry descr                             434 non-null    object \n",
      " 10  Company Type                               450 non-null    object \n",
      " 11  Current fulltime                           446 non-null    float64\n",
      " 12  Job created                                11 non-null     float64\n",
      " 13  Job retain                                 14 non-null     float64\n",
      " 14  Effective Date                             450 non-null    object \n",
      " 15  Total Savings                              450 non-null    float64\n",
      " 16  Savings from beginning receiving benefits  450 non-null    float64\n",
      " 17  Borough                                    450 non-null    object \n",
      " 18  Latitude                                   409 non-null    float64\n",
      " 19  Longitude                                  409 non-null    float64\n",
      " 20  Community Board                            409 non-null    float64\n",
      " 21  Council District                           409 non-null    float64\n",
      " 22  Census Tract                               409 non-null    float64\n",
      " 23  BIN                                        401 non-null    float64\n",
      " 24  BBL                                        401 non-null    float64\n",
      " 25  NTA                                        409 non-null    object \n",
      "dtypes: float64(12), int64(1), object(13)\n",
      "memory usage: 91.5+ KB\n"
     ]
    }
   ],
   "source": [
    "df.info()"
   ]
  },
  {
   "cell_type": "markdown",
   "id": "e24531ba",
   "metadata": {},
   "source": [
    "How many different companies are represented in the data set?"
   ]
  },
  {
   "cell_type": "code",
   "execution_count": 4,
   "id": "17cad729",
   "metadata": {},
   "outputs": [
    {
     "name": "stdout",
     "output_type": "stream",
     "text": [
      "Number of unique companies: 439\n"
     ]
    }
   ],
   "source": [
    "print(\"Number of unique companies:\", df['Company Name'].nunique())"
   ]
  },
  {
   "cell_type": "markdown",
   "id": "08b8f002",
   "metadata": {},
   "source": [
    "What is the total number of jobs created for businesses in Queens?"
   ]
  },
  {
   "cell_type": "code",
   "execution_count": 12,
   "id": "fcf8cfa0",
   "metadata": {
    "scrolled": true
   },
   "outputs": [
    {
     "name": "stdout",
     "output_type": "stream",
     "text": [
      "Jobs created in Queens: 102.0\n"
     ]
    }
   ],
   "source": [
    "job_created = df.dropna(subset=[\"Job created\"])\n",
    "queens = job_created.groupby(\"Borough\")\n",
    "print(\"Jobs created in Queens:\", queens.get_group(\"Queens\")[\"Job created\"].sum())"
   ]
  },
  {
   "cell_type": "markdown",
   "id": "dd2fe51c",
   "metadata": {},
   "source": [
    "How many different unique email domains names are there in the data set?"
   ]
  },
  {
   "cell_type": "code",
   "execution_count": 16,
   "id": "4e2f89e6",
   "metadata": {},
   "outputs": [
    {
     "name": "stdout",
     "output_type": "stream",
     "text": [
      "Number of unique email domains: 356\n"
     ]
    }
   ],
   "source": [
    "email = df[[\"company email\"]].dropna()\n",
    "email[\"domain\"] = email[\"company email\"].str.split('@').str[1]\n",
    "print(\"Number of unique email domains:\", email[\"domain\"].nunique())"
   ]
  },
  {
   "cell_type": "markdown",
   "id": "5b8a340b",
   "metadata": {},
   "source": [
    "Considering only NTAs with at least 5 listed businesses, what is the average total savings and the total jobs created for each NTA?"
   ]
  },
  {
   "cell_type": "code",
   "execution_count": 42,
   "id": "a54098f7",
   "metadata": {},
   "outputs": [],
   "source": [
    "company = df.groupby(by=[\"NTA\", \"Company Name\"])\n",
    "savings_sum = company.agg({'Job created':lambda x: x.sum(skipna=False), 'Total Savings':'sum'})\n",
    "nta_above_5= savings_sum.groupby(level=0).filter(lambda x: len(x) >= 5)"
   ]
  },
  {
   "cell_type": "code",
   "execution_count": 51,
   "id": "f6040c54",
   "metadata": {},
   "outputs": [
    {
     "name": "stdout",
     "output_type": "stream",
     "text": [
      "                                                  Total Savings\n",
      "NTA                                                            \n",
      "Battery Park City-Lower Manhattan                 469890.796667\n",
      "Bushwick South                                     26140.455000\n",
      "Carroll Gardens-Columbia Street-Red Hook           24337.390000\n",
      "College Point                                      17159.372857\n",
      "Crown Heights North                                 4036.298889\n",
      "DUMBO-Vinegar Hill-Downtown Brooklyn-Boerum Hill   59950.340000\n",
      "East New York                                      62271.120000\n",
      "East Williamsburg                                  13990.626364\n",
      "Greenpoint                                          9753.649286\n",
      "Hunters Point-Sunnyside-West Maspeth               24928.540556\n",
      "Hunts Point                                        39246.016154\n",
      "Manhattanville                                      2760.888889\n",
      "Maspeth                                             6658.283333\n",
      "Mott Haven-Port Morris                             17843.937857\n",
      "Queensbridge-Ravenswood-Long Island City           65952.822000\n",
      "SoHo-TriBeCa-Civic Center-Little Italy             37214.024000\n",
      "Springfield Gardens South-Brookville               17757.662000\n",
      "Steinway                                           11227.155714\n",
      "Sunset Park West                                   14316.976875\n",
      "park-cemetery-etc-Brooklyn                         14327.419333\n"
     ]
    }
   ],
   "source": [
    "avg_savings = nta_above_5[[\"Total Savings\"]].groupby(\"NTA\").mean()\n",
    "print(avg_savings)"
   ]
  },
  {
   "cell_type": "code",
   "execution_count": 44,
   "id": "23f94d09",
   "metadata": {},
   "outputs": [
    {
     "data": {
      "text/html": [
       "<div>\n",
       "<style scoped>\n",
       "    .dataframe tbody tr th:only-of-type {\n",
       "        vertical-align: middle;\n",
       "    }\n",
       "\n",
       "    .dataframe tbody tr th {\n",
       "        vertical-align: top;\n",
       "    }\n",
       "\n",
       "    .dataframe thead th {\n",
       "        text-align: right;\n",
       "    }\n",
       "</style>\n",
       "<table border=\"1\" class=\"dataframe\">\n",
       "  <thead>\n",
       "    <tr style=\"text-align: right;\">\n",
       "      <th></th>\n",
       "      <th>Job created</th>\n",
       "    </tr>\n",
       "    <tr>\n",
       "      <th>NTA</th>\n",
       "      <th></th>\n",
       "    </tr>\n",
       "  </thead>\n",
       "  <tbody>\n",
       "    <tr>\n",
       "      <th>Battery Park City-Lower Manhattan</th>\n",
       "      <td>0.0</td>\n",
       "    </tr>\n",
       "    <tr>\n",
       "      <th>Bushwick South</th>\n",
       "      <td>10.0</td>\n",
       "    </tr>\n",
       "    <tr>\n",
       "      <th>Carroll Gardens-Columbia Street-Red Hook</th>\n",
       "      <td>0.0</td>\n",
       "    </tr>\n",
       "    <tr>\n",
       "      <th>College Point</th>\n",
       "      <td>2.0</td>\n",
       "    </tr>\n",
       "    <tr>\n",
       "      <th>Crown Heights North</th>\n",
       "      <td>0.0</td>\n",
       "    </tr>\n",
       "    <tr>\n",
       "      <th>DUMBO-Vinegar Hill-Downtown Brooklyn-Boerum Hill</th>\n",
       "      <td>0.0</td>\n",
       "    </tr>\n",
       "    <tr>\n",
       "      <th>East New York</th>\n",
       "      <td>15.0</td>\n",
       "    </tr>\n",
       "    <tr>\n",
       "      <th>East Williamsburg</th>\n",
       "      <td>0.0</td>\n",
       "    </tr>\n",
       "    <tr>\n",
       "      <th>Greenpoint</th>\n",
       "      <td>0.0</td>\n",
       "    </tr>\n",
       "    <tr>\n",
       "      <th>Hunters Point-Sunnyside-West Maspeth</th>\n",
       "      <td>0.0</td>\n",
       "    </tr>\n",
       "    <tr>\n",
       "      <th>Hunts Point</th>\n",
       "      <td>12.0</td>\n",
       "    </tr>\n",
       "    <tr>\n",
       "      <th>Manhattanville</th>\n",
       "      <td>0.0</td>\n",
       "    </tr>\n",
       "    <tr>\n",
       "      <th>Maspeth</th>\n",
       "      <td>10.0</td>\n",
       "    </tr>\n",
       "    <tr>\n",
       "      <th>Mott Haven-Port Morris</th>\n",
       "      <td>10.0</td>\n",
       "    </tr>\n",
       "    <tr>\n",
       "      <th>Queensbridge-Ravenswood-Long Island City</th>\n",
       "      <td>0.0</td>\n",
       "    </tr>\n",
       "    <tr>\n",
       "      <th>SoHo-TriBeCa-Civic Center-Little Italy</th>\n",
       "      <td>0.0</td>\n",
       "    </tr>\n",
       "    <tr>\n",
       "      <th>Springfield Gardens South-Brookville</th>\n",
       "      <td>0.0</td>\n",
       "    </tr>\n",
       "    <tr>\n",
       "      <th>Steinway</th>\n",
       "      <td>20.0</td>\n",
       "    </tr>\n",
       "    <tr>\n",
       "      <th>Sunset Park West</th>\n",
       "      <td>0.0</td>\n",
       "    </tr>\n",
       "    <tr>\n",
       "      <th>park-cemetery-etc-Brooklyn</th>\n",
       "      <td>0.0</td>\n",
       "    </tr>\n",
       "  </tbody>\n",
       "</table>\n",
       "</div>"
      ],
      "text/plain": [
       "                                                  Job created\n",
       "NTA                                                          \n",
       "Battery Park City-Lower Manhattan                         0.0\n",
       "Bushwick South                                           10.0\n",
       "Carroll Gardens-Columbia Street-Red Hook                  0.0\n",
       "College Point                                             2.0\n",
       "Crown Heights North                                       0.0\n",
       "DUMBO-Vinegar Hill-Downtown Brooklyn-Boerum Hill          0.0\n",
       "East New York                                            15.0\n",
       "East Williamsburg                                         0.0\n",
       "Greenpoint                                                0.0\n",
       "Hunters Point-Sunnyside-West Maspeth                      0.0\n",
       "Hunts Point                                              12.0\n",
       "Manhattanville                                            0.0\n",
       "Maspeth                                                  10.0\n",
       "Mott Haven-Port Morris                                   10.0\n",
       "Queensbridge-Ravenswood-Long Island City                  0.0\n",
       "SoHo-TriBeCa-Civic Center-Little Italy                    0.0\n",
       "Springfield Gardens South-Brookville                      0.0\n",
       "Steinway                                                 20.0\n",
       "Sunset Park West                                          0.0\n",
       "park-cemetery-etc-Brooklyn                                0.0"
      ]
     },
     "execution_count": 44,
     "metadata": {},
     "output_type": "execute_result"
    }
   ],
   "source": [
    "total_jobs = nta_above_5[[\"Job created\"]].groupby(\"NTA\").sum()\n",
    "print(total_jobs)"
   ]
  },
  {
   "cell_type": "code",
   "execution_count": null,
   "id": "6c4cc68c",
   "metadata": {},
   "outputs": [],
   "source": [
    "avg_savings, total_jobs.to_csv"
   ]
  }
 ],
 "metadata": {
  "kernelspec": {
   "display_name": "Python 3",
   "language": "python",
   "name": "python3"
  },
  "language_info": {
   "codemirror_mode": {
    "name": "ipython",
    "version": 3
   },
   "file_extension": ".py",
   "mimetype": "text/x-python",
   "name": "python",
   "nbconvert_exporter": "python",
   "pygments_lexer": "ipython3",
   "version": "3.10.6 (v3.10.6:9c7b4bd164, Aug  1 2022, 17:13:48) [Clang 13.0.0 (clang-1300.0.29.30)]"
  },
  "vscode": {
   "interpreter": {
    "hash": "aee8b7b246df8f9039afb4144a1f6fd8d2ca17a180786b69acc140d282b71a49"
   }
  }
 },
 "nbformat": 4,
 "nbformat_minor": 5
}
