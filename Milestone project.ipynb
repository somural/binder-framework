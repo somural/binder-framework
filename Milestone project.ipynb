{
 "cells": [
  {
   "cell_type": "markdown",
   "id": "3e33b3b4",
   "metadata": {},
   "source": [
    "## Milestone Project / The Data Incubator Bootcamp\n",
    "\n",
    "### Analysis of the Value of Energy Cost Savings Program Savings for Businesses in New York City\n"
   ]
  },
  {
   "cell_type": "markdown",
   "id": "0533e293",
   "metadata": {},
   "source": [
    "Import the python packages:"
   ]
  },
  {
   "cell_type": "code",
   "execution_count": null,
   "id": "a9e073b6",
   "metadata": {},
   "outputs": [],
   "source": [
    "import pandas as pd\n",
    "import numpy as np\n",
    "import datetime as datetime\n",
    "import matplotlib as mp\n",
    "import matplotlib.pyplot as plt\n",
    "import matplotlib.ticker as ticker\n",
    "from datetime import date"
   ]
  },
  {
   "cell_type": "markdown",
   "id": "303826a3",
   "metadata": {},
   "source": [
    "Read data from a CSV file to create a DataFrame:"
   ]
  },
  {
   "cell_type": "code",
   "execution_count": null,
   "id": "c664723c",
   "metadata": {},
   "outputs": [],
   "source": [
    "df = pd.read_csv(\"datasets/Value_of_Energy_Cost_Savings_Program_Savings_for_Businesses_-_FY2020.csv\")\n",
    "                 "
   ]
  },
  {
   "cell_type": "markdown",
   "id": "204abbaf",
   "metadata": {},
   "source": [
    "General information about the DataFrame:"
   ]
  },
  {
   "cell_type": "code",
   "execution_count": null,
   "id": "1b91052a",
   "metadata": {},
   "outputs": [],
   "source": [
    "df.info()"
   ]
  },
  {
   "cell_type": "markdown",
   "id": "e24531ba",
   "metadata": {},
   "source": [
    "How many different companies are represented in the data set?"
   ]
  },
  {
   "cell_type": "code",
   "execution_count": null,
   "id": "17cad729",
   "metadata": {},
   "outputs": [],
   "source": [
    "print(\"Number of unique companies:\", df['Company Name'].nunique())"
   ]
  },
  {
   "cell_type": "markdown",
   "id": "08b8f002",
   "metadata": {},
   "source": [
    "What is the total number of jobs created for businesses in Queens?"
   ]
  },
  {
   "cell_type": "code",
   "execution_count": 1,
   "id": "fcf8cfa0",
   "metadata": {
    "scrolled": true
   },
   "outputs": [
    {
     "ename": "NameError",
     "evalue": "name 'df' is not defined",
     "output_type": "error",
     "traceback": [
      "\u001b[0;31m---------------------------------------------------------------------------\u001b[0m",
      "\u001b[0;31mNameError\u001b[0m                                 Traceback (most recent call last)",
      "Cell \u001b[0;32mIn[1], line 1\u001b[0m\n\u001b[0;32m----> 1\u001b[0m job_created \u001b[38;5;241m=\u001b[39m \u001b[43mdf\u001b[49m\u001b[38;5;241m.\u001b[39mdropna(subset\u001b[38;5;241m=\u001b[39m[\u001b[38;5;124m\"\u001b[39m\u001b[38;5;124mJob created\u001b[39m\u001b[38;5;124m\"\u001b[39m])\n\u001b[1;32m      2\u001b[0m queens \u001b[38;5;241m=\u001b[39m job_created\u001b[38;5;241m.\u001b[39mgroupby(\u001b[38;5;124m\"\u001b[39m\u001b[38;5;124mBorough\u001b[39m\u001b[38;5;124m\"\u001b[39m)\n\u001b[1;32m      3\u001b[0m \u001b[38;5;28mprint\u001b[39m(\u001b[38;5;124m\"\u001b[39m\u001b[38;5;124mJobs created in Queens:\u001b[39m\u001b[38;5;124m\"\u001b[39m)\n",
      "\u001b[0;31mNameError\u001b[0m: name 'df' is not defined"
     ]
    }
   ],
   "source": [
    "job_created = df.dropna(subset=[\"Job created\"])\n",
    "queens = job_created.groupby(\"Borough\")\n",
    "print(\"Jobs created in Queens:\")\n",
    "print(queens.get_group(\"Queens\")[\"Job created\"].sum())"
   ]
  },
  {
   "cell_type": "markdown",
   "id": "dd2fe51c",
   "metadata": {},
   "source": [
    "How many different unique email domains names are there in the data set?"
   ]
  },
  {
   "cell_type": "code",
   "execution_count": null,
   "id": "4e2f89e6",
   "metadata": {},
   "outputs": [],
   "source": [
    "email = df[[\"company email\"]].dropna()\n",
    "email[\"domain\"] = email[\"company email\"].str.split('@').str[1]\n",
    "print(\"Number of unique email domains:\", email[\"domain\"].str.lower().nunique()"
   ]
  },
  {
   "cell_type": "markdown",
   "id": "5b8a340b",
   "metadata": {},
   "source": [
    "Considering only NTAs with at least 5 listed businesses, what is the average total savings and the total jobs created for each NTA?"
   ]
  },
  {
   "cell_type": "code",
   "execution_count": null,
   "id": "c219f06b",
   "metadata": {},
   "outputs": [],
   "source": [
    "nta_5 = by_nta.groupby(level=0).filter(lambda x: len(x) >=5)\n",
    "nta_5_stats=nta_5.groupby(\"NTA\").agg(\n",
    "    **{\"Average Total Savings\":pd.NamedAgg(column=\"Total Savings\", aggfunc=\"mean\"),\n",
    "       \"Total Jobs Created\":pd.NamedAgg(column=\"Job created\", aggfunc=\"sum\"))\n",
    "    }\n",
    ")\n",
    "nta_5_stats.style.format({'Average Total Savings': '${0:,.2f}', 'Total Reported Jobs Created': '{}'})"
   ]
  },
  {
   "cell_type": "markdown",
   "id": "382a9626",
   "metadata": {},
   "source": [
    "Save your result for the previous question as a CSV file."
   ]
  },
  {
   "cell_type": "code",
   "execution_count": null,
   "id": "6c4cc68c",
   "metadata": {},
   "outputs": [],
   "source": [
    "filepath = \"datasets/nta_stats.csv\"\n",
    "nta_5_stats.to_csv(filepath)"
   ]
  },
  {
   "cell_type": "markdown",
   "id": "f8012ca5",
   "metadata": {},
   "source": [
    "Using the same data set and results, create a scatter plot of jobs created versus average savings. Use both a standard and a logarithmic scale for the average savings."
   ]
  },
  {
   "cell_type": "code",
   "execution_count": null,
   "id": "53039bcb",
   "metadata": {},
   "outputs": [],
   "source": [
    "df = pd.read_csv(\"datasets/nta_stats.csv\")\n",
    "jobs_created = df[\"Total Jobs Created\"]\n",
    "avg_savings = df[\"Average Total Savings\"]\n",
    "\n",
    "fig1, axs = plt.subplots(2, sharex=True, figsize=[8, 9.6])\n",
    "lin_scatter=axs[0]\n",
    "log_scatter=axs[1]\n",
    "\n",
    "fig1.suptitle(\"Jobs Created vs. Average Total Savings\")\n",
    "lin_scatter.xaxis.set_major_locator(ticker.MultipleLocator(5))\n",
    "lin_scatter.xaxis.set_minor_locator(ticker.MultipleLocator(1))\n",
    "\n",
    "lin_scatter.set_title(\"Linear Scale\")\n",
    "lin_scatter.scatter(jobs_created, avg_savings)\n",
    "\n",
    "log_scatter.set_yscale('log')\n",
    "log_scatter.set_title(\"Logarithmic Scale\")\n",
    "log_scatter.scatter(jobs_created, avg_savings)\n",
    "log_scatter.yaxis.set_major_formatter(tick)\n",
    "log_scatter.set_xlabel(\"Reported Jobs Created\")"
   ]
  },
  {
   "cell_type": "markdown",
   "id": "a4734a1c",
   "metadata": {},
   "source": [
    "Create a histogram of the log of the average total savings."
   ]
  },
  {
   "cell_type": "code",
   "execution_count": null,
   "id": "c78293c3",
   "metadata": {},
   "outputs": [],
   "source": [
    "hist = plt.subplot()\n",
    "hist.set_title(\"Histogram of the Log of the Average Total Savings\")\n",
    "hist.set_ylabel(\"Number of NTAs\")\n",
    "hist.set_xscale('log')\n",
    "hist.grid(axis=\"y\")\n",
    "logbins = np.geomspace(avg_savings.min(), avg_savings.max(), 10)"
   ]
  },
  {
   "cell_type": "markdown",
   "id": "c59e1251",
   "metadata": {},
   "source": [
    "Create a line plot of the total jobs created for each month."
   ]
  },
  {
   "cell_type": "code",
   "execution_count": null,
   "id": "aec62865",
   "metadata": {},
   "outputs": [],
   "source": [
    "jobs_by_month = jobs_created_timeseries.resample('M').sum()\n",
    "fig = plt.figure(figsize = (10,4))\n",
    "plt.plot(jobs_by_month)\n",
    "plt.set_title(\"Jobs Created by Month\")\n",
    "plt.show()"
   ]
  }
 ],
 "metadata": {
  "kernelspec": {
   "display_name": "Python3",
   "language": "python",
   "name": "python3"
  },
  "language_info": {
   "codemirror_mode": {
    "name": "ipython",
    "version": 3
   },
   "file_extension": ".py",
   "mimetype": "text/x-python",
   "name": "python",
   "nbconvert_exporter": "python",
   "pygments_lexer": "ipython3",
   "version": "3.10.8"
  }
 },
 "nbformat": 4,
 "nbformat_minor": 5
}
